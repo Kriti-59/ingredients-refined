{
 "cells": [
  {
   "cell_type": "markdown",
   "id": "c38337ac-3dce-433f-a96b-1c5cf1e86cdc",
   "metadata": {},
   "source": [
    "## Recipe Recommendation "
   ]
  },
  {
   "cell_type": "code",
   "execution_count": 6,
   "id": "9ef7eb37-0b4e-4c76-ac81-d5c40c3a3ea2",
   "metadata": {},
   "outputs": [],
   "source": [
    "import pandas as pd\n",
    "import numpy as np"
   ]
  },
  {
   "cell_type": "code",
   "execution_count": 7,
   "id": "54b44b3e-3d6e-4430-8776-80b7e188df8a",
   "metadata": {},
   "outputs": [],
   "source": [
    "# Load the dataset\n",
    "recipes = pd.read_csv(\"recipes_ingredients.csv\")"
   ]
  },
  {
   "cell_type": "code",
   "execution_count": 8,
   "id": "b3b438ad-3781-425a-acb8-5ceae91b5c90",
   "metadata": {
    "scrolled": true
   },
   "outputs": [
    {
     "name": "stdout",
     "output_type": "stream",
     "text": [
      "(500471, 9)\n",
      "Index(['id', 'name', 'description', 'ingredients', 'ingredients_raw', 'steps',\n",
      "       'servings', 'serving_size', 'tags'],\n",
      "      dtype='object')\n",
      "       id                             name  \\\n",
      "0   71247          Cherry Streusel Cobbler   \n",
      "1   76133  Reuben and Swiss Casserole Bake   \n",
      "2  503816                 Yam-Pecan Recipe   \n",
      "\n",
      "                                         description  \\\n",
      "0  I haven't made this in years, so I'm just gues...   \n",
      "1  I think this is even better than a reuben sand...   \n",
      "2  A lady I work with heard me taking about ZWT a...   \n",
      "\n",
      "                                         ingredients  \\\n",
      "0  [\"cherry pie filling\", \"condensed milk\", \"melt...   \n",
      "1  [\"corned beef chopped\", \"sauerkraut cold water...   \n",
      "2  [\"unsalted butter\", \"vegetable oil\", \"all - pu...   \n",
      "\n",
      "                                     ingredients_raw  \\\n",
      "0  [\"2 (21   ounce) cans   cherry pie filling\",\"2...   \n",
      "1  [\"1/2-1   lb    corned beef, cooked and choppe...   \n",
      "2  [\"3/4  cup    unsalted butter, at room tempera...   \n",
      "\n",
      "                                               steps  servings serving_size  \\\n",
      "0  [\"Preheat oven to 375°F.\", \"Spread cherry pie ...       6.0    1 (347 g)   \n",
      "1  [\"Set oven to 350 degrees F.\", \"Butter a 9 x 1...       4.0    1 (207 g)   \n",
      "2  [\"Preheat oven to 350°F  In a mixing bowl, usi...       8.0    1 (198 g)   \n",
      "\n",
      "                                                tags  \n",
      "0  [\"60-minutes-or-less\", \"time-to-make\", \"course...  \n",
      "1  [\"60-minutes-or-less\", \"time-to-make\", \"course...  \n",
      "2  [\"time-to-make\", \"course\", \"main-ingredient\", ...  \n"
     ]
    }
   ],
   "source": [
    "print(recipes.shape)\n",
    "print(recipes.columns)\n",
    "print(recipes.head(3))"
   ]
  },
  {
   "cell_type": "code",
   "execution_count": 26,
   "id": "aec16c78-15c1-48ba-bf46-6d9b8caf5757",
   "metadata": {},
   "outputs": [
    {
     "name": "stdout",
     "output_type": "stream",
     "text": [
      "<class 'str'>\n"
     ]
    }
   ],
   "source": [
    "print(type(recipes['ingredients_raw'].iloc[0]))"
   ]
  },
  {
   "cell_type": "code",
   "execution_count": 39,
   "id": "0e111a23-8c05-4ba7-acfd-be1fbdf89c80",
   "metadata": {},
   "outputs": [
    {
     "name": "stdout",
     "output_type": "stream",
     "text": [
      "<class 'list'>\n"
     ]
    }
   ],
   "source": [
    "#Convert ingredients string to Python list \n",
    "\n",
    "import re\n",
    "\n",
    "def parse_ingredients(s):\n",
    "    if isinstance(s, str):\n",
    "        #Extracts everything between double quotes\n",
    "        pattern = r'\"(.*?)\"'\n",
    "        return re.findall(pattern, s)\n",
    "    else:\n",
    "        return []  \n",
    "\n",
    "recipes['ingredients_list'] = recipes['ingredients_raw'].apply(parse_ingredients)\n",
    "\n",
    "print(type(recipes['ingredients_list'].iloc[0]))\n"
   ]
  },
  {
   "cell_type": "code",
   "execution_count": null,
   "id": "0e824d77-ac4e-4fc4-a852-2609717472b1",
   "metadata": {
    "scrolled": true
   },
   "outputs": [
    {
     "name": "stdout",
     "output_type": "stream",
     "text": [
      "Original beef ingredients:\n",
      "  0: '2   lbs    ground beef'\n",
      "  1: '2   lbs    Italian sausage, ground '\n",
      "  2: '  saltine crackers'\n",
      "  3: '3       eggs'\n",
      "  4: '1       onion, chopped '\n",
      "  5: '2   tablespoons    garlic, minced '\n",
      "  ...\n",
      "\n",
      "Cleaned for TF-IDF:\n",
      "  0: 'beef'\n",
      "  1: 'sausage'\n",
      "  2: 'saltine crackers'\n",
      "  3: 'eggs'\n",
      "  4: 'onion'\n",
      "  5: 'garlic'\n",
      "  6: 'parsley'\n",
      "  7: 'salt'\n",
      "  8: 'pepper'\n",
      "  9: 'bell pepper'\n",
      "  10: 'marinara sauce'\n",
      "\n",
      "Result: ['beef', 'sausage', 'saltine crackers', 'eggs', 'onion', 'garlic', 'parsley', 'salt', 'pepper', 'bell pepper', 'marinara sauce']\n",
      "\n",
      "==================================================\n",
      "PREVIOUS TEST CASES:\n",
      "==================================================\n",
      "\n",
      "Test case 1: ['8   ounces    shell pasta', '1 (6 1/2  ounce) can   tuna in water, drained ', '2 1/2  teaspoons   chopped walnuts', '1/4  cup    pesto sauce']\n",
      "Cleaned: ['pasta', 'tuna', 'walnuts', 'pesto sauce']\n",
      "\n",
      "Test case 2: ['2 cups all-purpose flour', '1 lb ground beef', '3 large eggs']\n",
      "Cleaned: ['flour', 'beef', 'eggs']\n",
      "\n",
      "Test case 3: ['1/2 cup olive oil', '2 tablespoons fresh basil', '1 can diced tomatoes']\n",
      "Cleaned: ['olive oil', 'basil', 'tomatoes']\n"
     ]
    }
   ],
   "source": [
    "import re\n",
    " \n",
    "units = [\n",
    "    \"cup\",\"cups\",\"tablespoon\",\"tablespoons\",\"tbsp\",\"teaspoon\",\"tsp\",\"teaspoons\",\n",
    "    \"g\",\"kg\",\"mg\",\"oz\",\"ounce\",\"ounces\",\"ml\",\"l\",\"liter\",\"pinch\",\"dash\",\"pound\",\"lb\",\"lbs\",\n",
    "    \"clove\",\"cloves\",\"slice\",\"slices\",\"package\",\"can\",\"envelope\",\"bunches\",\"sprig\"\n",
    "]\n",
    " \n",
    "descriptors = [\n",
    "    \"chopped\",\"sliced\",\"minced\",\"crumbled\",\"shredded\",\"coarsely ground\",\n",
    "    \"thick-cut\",\"thinly sliced\",\"diced\",\"peeled\",\"crushed\",\"ground\",\"finely\",\n",
    "    \"small\",\"large\",\"extra\",\"uncooked\",\"condensed\",\"your choice of\",\"your choice\",\n",
    "    \"semisweet\",\"bittersweet\",\"chunky\",\"fresh\",\"dried\",\"whole\",\n",
    "    \"melted\",\"softened\",\"whipped\",\"for topping\",\"for serving\",\"of your choice\",\n",
    "    \"into\",\"inch\",\"pieces\",\"flavored\",\"grated\",\"may\",\"approximately\",\"seeded\",\"juice\",\n",
    "    \"shell\",\"penne\",\"fusilli\",\"rotini\",\"elbow\",\"drained\",\"in water\",\n",
    "    \"thinly\",\"thickly\",\"finely\",\"coarsely\",\"roughly\",\"smooth\",\"chunky\",\"creamy\",\n",
    "    \"head\",\"leaf\",\"leaves\",\"clove\",\"cloves\",\"bunch\",\"stalk\",\"stalks\",\"sprig\",\"sprigs\",\n",
    "    \"freshly\",\"lightly\",\"heavily\",\"slightly\",\"well\",\"very\",\"quite\",\"really\",\n",
    "    \"julienned\",\"grated\",\"shredded\",\"chopped\",\"diced\",\"sliced\",\"minced\"\n",
    "]\n",
    " \n",
    "adjectives = [\n",
    "    \"white\",\"cold\",\"hot\",\"raw\",\"unsalted\",\"light\",\"dark\",\"fresh\",\"extra\",\"virgin\"\n",
    "]\n",
    " \n",
    "normalize_map = {\n",
    "    \"brown sugar\":\"sugar\",\n",
    "    \"light brown sugar\":\"sugar\", \n",
    "    \"instant rice\":\"rice\",\n",
    "    \"long-grain white rice\":\"white rice\",\n",
    "    \"all-purpose flour\":\"flour\",\n",
    "    \"graham cracker crumbs\":\"graham cracker\",\n",
    "    \"extra virgin olive oil\":\"olive oil\",\n",
    "    \"virgin olive oil\":\"olive oil\",\n",
    "    \"chopped tomatoes\":\"tomatoes\",\n",
    "    \"diced tomatoes\":\"tomatoes\",\n",
    "    \"fresh basil\":\"basil\",\n",
    "    \"tomatoes, with juice\":\"tomatoes\",\n",
    "    \"black pepper\":\"pepper\",\n",
    "    \"ground pepper\":\"pepper\",\n",
    "    \"white pepper\":\"pepper\",\n",
    "    \"red pepper\":\"pepper\",\n",
    "    \"green pepper\":\"bell pepper\"\n",
    "}\n",
    " \n",
    "prep_words = [\"in water\", \"drained\", \"cooked\", \"softened\", \"whipped\", \"to taste\", \"for serving\", \n",
    "              \"for garnish\", \"as needed\", \"if desired\", \"optional\"]\n",
    " \n",
    "origin_descriptors = [\"italian\", \"mexican\", \"chinese\", \"french\", \"spanish\", \"greek\", \"american\", \n",
    "                     \"asian\", \"european\", \"mediterranean\"]\n",
    " \n",
    "def refine_ingredient_list(ingredients):\n",
    "    cleaned = []\n",
    "    for ingredient in ingredients:\n",
    "        if not isinstance(ingredient, str):\n",
    "            continue\n",
    "        ing = ingredient.lower().strip()\n",
    "        \n",
    "        # Remove parentheses content first\n",
    "        ing = re.sub(r\"\\(.*?\\)\", \"\", ing)\n",
    "        \n",
    "        # Remove numbers with fractions/decimals and units\n",
    "        # This handles patterns like \"8 ounces\", \"2 1/2 teaspoons\", \"1/4 cup\"\n",
    "        for unit in units:\n",
    "            # Pattern to match: number(s) + optional fraction + unit\n",
    "            pattern = rf\"\\b\\d+(?:\\s*\\d*/\\d+)?\\s*{re.escape(unit)}\\b\"\n",
    "            ing = re.sub(pattern, \"\", ing)\n",
    "            \n",
    "        # Remove any remaining standalone numbers and fractions\n",
    "        ing = re.sub(r\"\\b\\d+(?:/\\d+)?\\b\", \"\", ing)\n",
    "        ing = re.sub(r\"\\b\\d+\\s*\\d+/\\d+\\b\", \"\", ing)  # For \"2 1/2\" format\n",
    "        \n",
    "        # Remove descriptors\n",
    "        for desc in descriptors:\n",
    "            ing = re.sub(rf\"\\b{re.escape(desc)}\\b\", \"\", ing)\n",
    "            \n",
    "        # Remove adjectives  \n",
    "        for adj in adjectives:\n",
    "            ing = re.sub(rf\"\\b{re.escape(adj)}\\b\", \"\", ing)\n",
    "            \n",
    "        # Remove prep words\n",
    "        for pw in prep_words:\n",
    "            ing = ing.replace(pw, \"\")\n",
    "            \n",
    "        # Remove origin descriptors\n",
    "        for origin in origin_descriptors:\n",
    "            ing = re.sub(rf\"\\b{re.escape(origin)}\\b\", \"\", ing)\n",
    "            \n",
    "        # Remove commas and normalize spaces\n",
    "        ing = re.sub(r\",\", \"\", ing)\n",
    "        ing = re.sub(r\"\\s+\", \" \", ing).strip()\n",
    "        \n",
    "        # Apply normalization mapping\n",
    "        for k, v in normalize_map.items():\n",
    "            ing = ing.replace(k, v)\n",
    "            \n",
    "        # Split on connecting words and take first part\n",
    "        ing = re.split(r\"\\bor\\b|\\bwith\\b|\\band\\b\", ing)[0].strip()\n",
    "        \n",
    "        # Remove common stopwords\n",
    "        stopwords = [\"pieces\", \"inch\", \"small\", \"medium\", \"large\", \"may\", \"approximately\"]\n",
    "        \n",
    "        for sw in stopwords:\n",
    "            ing = re.sub(rf\"\\b{sw}\\b\", \"\", ing)\n",
    "\n",
    "        # Final cleanup\n",
    "        ing = re.sub(r\"\\s+\", \" \", ing).strip()\n",
    "\n",
    "        if ing and len(ing) > 1:  # Only keep non-empty ingredients with more than 1 char\n",
    "            cleaned.append(ing)\n",
    "            \n",
    "    # Remove duplicates while preserving order\n",
    "    return list(dict.fromkeys(cleaned))"
   ]
  },
  {
   "cell_type": "code",
   "execution_count": null,
   "id": "03a3107c-1f49-4c86-b4e5-b0e6c551fe90",
   "metadata": {},
   "outputs": [],
   "source": []
  }
 ],
 "metadata": {
  "kernelspec": {
   "display_name": "Python 3 (ipykernel)",
   "language": "python",
   "name": "python3"
  },
  "language_info": {
   "codemirror_mode": {
    "name": "ipython",
    "version": 3
   },
   "file_extension": ".py",
   "mimetype": "text/x-python",
   "name": "python",
   "nbconvert_exporter": "python",
   "pygments_lexer": "ipython3",
   "version": "3.13.2"
  }
 },
 "nbformat": 4,
 "nbformat_minor": 5
}
